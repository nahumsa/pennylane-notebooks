{
  "nbformat": 4,
  "nbformat_minor": 0,
  "metadata": {
    "colab": {
      "name": "Meta-VQE_Pennylane.ipynb",
      "provenance": [],
      "collapsed_sections": [],
      "authorship_tag": "ABX9TyNwv4P4Rs4U0mPBkHn269AQ",
      "include_colab_link": true
    },
    "kernelspec": {
      "name": "python3",
      "display_name": "Python 3"
    }
  },
  "cells": [
    {
      "cell_type": "markdown",
      "metadata": {
        "id": "view-in-github",
        "colab_type": "text"
      },
      "source": [
        "<a href=\"https://colab.research.google.com/github/nahumsa/pennylane-notebooks/blob/main/Meta-VQE%20Pennylane.ipynb\" target=\"_parent\"><img src=\"https://colab.research.google.com/assets/colab-badge.svg\" alt=\"Open In Colab\"/></a>"
      ]
    },
    {
      "cell_type": "code",
      "metadata": {
        "id": "ZzB6C0DClCc7"
      },
      "source": [
        "from IPython.display import clear_output\n",
        "! pip install pennylane\n",
        "clear_output()"
      ],
      "execution_count": null,
      "outputs": []
    },
    {
      "cell_type": "markdown",
      "metadata": {
        "id": "Bt2gyp9eaV0p"
      },
      "source": [
        "# Meta-Variational Quantum Eigensolver"
      ]
    },
    {
      "cell_type": "markdown",
      "metadata": {
        "id": "1R0zp5QTabsW"
      },
      "source": [
        "by Nahum Sá (nahumsa@cbpf.br)"
      ]
    },
    {
      "cell_type": "markdown",
      "metadata": {
        "id": "LdsX1tFOLZi3"
      },
      "source": [
        "# 1) Introduction\n",
        "\n",
        "The Meta-VQE algorithm is a variational quantum algorithm that is suited for NISQ devices and encodes parameters of a Hamiltonian into a variational ansatz which we can obtain good estimations of the ground state of the Hamiltonian by changing only those encoded parameters. \n",
        "\n",
        "This leads to a advantage when compared with the original VQE algorithm, because if you want to know the profile of a parametrized Hamiltonian you would need to run the VQE algorithm for each parameter, using Meta-VQE you would only need to run for a fixed set of training parameters and in order to get the profile you would only need to change the parameters of the ansatz.\n",
        "\n",
        "The Meta-VQE algorithm consists of two parts: \n",
        "\n",
        "- Encoding;\n",
        "- Processing;\n",
        "\n",
        "Consider a parametrized Hamiltonian $H(\\vec{\\lambda})$, where $\\vec{\\lambda} = \\{ \\lambda_1, \\dots, \\lambda_p \\}$. The circuit is initialized in the $| 0 \\rangle^{\\otimes n}$ and then a encoding layer is added to the circuit, this layer encodes parameters of the Hamiltonian and has training parameters as well. The encoding layer is a unitary $\\mathcal{S} = \\mathcal{S}(\\vec{\\theta}_{\\mathrm{enc}}, \\vec{\\lambda})$. After the encoding layer, we add a processing layer which is a unitary $\\mathcal{U} = \\mathcal{U}(\\vec{\\theta}_{\\mathrm{proc}})$ which consists only of training parameters.\n",
        "\n",
        "Thus the ansatz can be written as:\n",
        "\n",
        "$$\n",
        "| \\psi_i \\rangle = \\mathcal{U}(\\vec{\\theta}_{\\mathrm{proc}}) \\ \\mathcal{S}(\\vec{\\theta}_{\\mathrm{enc}}, \\vec{\\lambda}) \\ | 0 \\rangle^{\\otimes n }\n",
        "$$\n",
        "\n",
        "After constructing the ansatz we generate a set of training parameters ($\\lambda_i$), which we minimize the cost function:\n",
        "\n",
        "$$\n",
        "\\mathcal{L}_{\\mathrm{COST}} = \\sum_{i=1}^M \\langle \\psi_i | H (\\lambda_i) | \\psi_i \\rangle\n",
        "$$\n",
        "\n",
        "And get optimal parameters $\\vec{\\theta}^*$ and use them to evaluate other parameters of the parametrized Hamiltonian which are not in the training set."
      ]
    },
    {
      "cell_type": "markdown",
      "metadata": {
        "id": "TRYcTtgvP1KG"
      },
      "source": [
        "For this demo I will be using the XXZ spin chain just like the original [Meta-VQE paper](https://arxiv.org/abs/2009.13545) and is based on the [demo](https://github.com/AlbaCL/qhack21/blob/main/Meta-VQE.ipynb) by Alba Cervera-Lierta written using [Tequila](https://github.com/aspuru-guzik-group/tequila)."
      ]
    },
    {
      "cell_type": "markdown",
      "metadata": {
        "id": "wamSFWksAlW4"
      },
      "source": [
        "## 1.1) Constructing the Hamiltonian"
      ]
    },
    {
      "cell_type": "markdown",
      "metadata": {
        "id": "PaoumNPqP9iv"
      },
      "source": [
        "The XXZ spin chain has the following Hamiltonian:\n",
        "\n",
        "$$\n",
        "\\mathcal{H} = \\sum_{i=1}^N \\big( X_i X_{i+1} + Y_i Y_{i+1} + \\Delta Z_i Z_{i+1} \\big) + \\eta \\sum_{i=1}^N Z_i\n",
        "$$\n",
        "\n",
        "Where $\\Delta$ is the anisotropy parameter and $\\lambda$ the transverse field strenght. This model is interesting because it has two phase transitions when $\\lambda=0$, at $\\Delta = \\pm 1$. Other feature of this model is that for $\\Delta < -1$ the ground state is a product state and if $1 < \\Delta \\leq 1$ the ground state is highly entangled.\n",
        "\n",
        "I will use periodic boundary conditions, which means that the last spin will have connectivity with the first spin on the chain.\n",
        "\n",
        "The great question is: **Is it possible to create an ansatz that generate states for any $n$ and $\\Delta$?**\n",
        "\n",
        "This is where the Meta-VQE comes to rescue!\n",
        "\n"
      ]
    },
    {
      "cell_type": "code",
      "metadata": {
        "id": "4nu_L3inI7LO"
      },
      "source": [
        "# Imports\n",
        "import numpy as np\n",
        "import pennylane as qml\n",
        "from tqdm.notebook import tqdm\n",
        "import matplotlib.pyplot as plt"
      ],
      "execution_count": null,
      "outputs": []
    },
    {
      "cell_type": "code",
      "metadata": {
        "id": "TbOeVdmwNmzt"
      },
      "source": [
        "def hamiltonian_XXZ(n_qubits: int, delta: float, eta: float) -> qml.Hamiltonian:\n",
        "    \"\"\" Creates the XXZ hamiltonian, which is given by:\n",
        "\n",
        "    $$\n",
        "    \\mathcal{H} = \\sum_{i=1}^N \\big( X_i X_{i+1} + Y_i Y_{i+1} \n",
        "    + \\Delta Z_i Z_{i+1} \\big) + \\eta \\sum_{i=1}^N Z_i\n",
        "    $$\n",
        "\n",
        "    Args:\n",
        "        n_qubits(int): number of spins in the chain.\n",
        "        delta(float): delta parameter.\n",
        "        eta(float): eta parameter.\n",
        "    \"\"\"\n",
        "    hamiltonian = []\n",
        "    coeffs = []\n",
        "    \n",
        "    # Periodic Boundary Conditions\n",
        "    for op in [qml.PauliX, qml.PauliY, qml.PauliZ]:\n",
        "        hamiltonian.append(op(n_qubits-1)@op(0))\n",
        "        if op != qml.PauliZ :\n",
        "            coeffs.append(1.)\n",
        "        else:\n",
        "            coeffs.append(delta)\n",
        "    \n",
        "    hamiltonian.append(qml.PauliZ(n_qubits-1))\n",
        "    coeffs.append(eta)\n",
        "\n",
        "    for qubits in range(n_qubits - 1):\n",
        "        for op in [qml.PauliX, qml.PauliY, qml.PauliZ]:\n",
        "            \n",
        "            hamiltonian.append(op(qubits)@op(qubits+1))\n",
        "            \n",
        "            if op != qml.PauliZ :\n",
        "                coeffs.append(1.)\n",
        "            else:\n",
        "                coeffs.append(delta)\n",
        "        \n",
        "        hamiltonian.append(qml.PauliZ(qubits))\n",
        "        coeffs.append(eta)\n",
        "\n",
        "    H = qml.Hamiltonian(coeffs, hamiltonian, simplify=True)\n",
        "    return H\n",
        "\n",
        "def hamiltonian_to_matrix(H: qml.Hamiltonian) -> np.array:\n",
        "    \"\"\" Converts a pennylane Hamiltonian object into a matrix.\n",
        "\n",
        "    Args:\n",
        "        H(qml.Hamiltonian): Hamiltonian.\n",
        "\n",
        "    Output:\n",
        "        np.array: Outputs the matrix representation of the Hamiltonian.\n",
        "    \"\"\"\n",
        "    mat = np.zeros((2**n_qubits, 2**n_qubits), np.complex128)\n",
        "    for coef, op in zip(*H.terms):\n",
        "        mat += coef*qml.utils.expand(op.matrix, op.wires, n_qubits)\n",
        "    return mat\n",
        "\n",
        "def exact_gs(H: qml.Hamiltonian) -> float:\n",
        "    \"\"\" Calculates the Ground State energy of the Hamiltonian.\n",
        "\n",
        "    Args:\n",
        "        H(qml.Hamiltonian): Hamiltonian.\n",
        "\n",
        "    Output:\n",
        "        float: outputs the ground state energy of the Hamiltonian.\n",
        "    \"\"\"\n",
        "    matrix = hamiltonian_to_matrix(H)\n",
        "    energies = np.linalg.eigvals(matrix)\n",
        "    return np.real(min(energies))"
      ],
      "execution_count": null,
      "outputs": []
    },
    {
      "cell_type": "code",
      "metadata": {
        "id": "pO_WDYfUOpfW",
        "colab": {
          "base_uri": "https://localhost:8080/"
        },
        "outputId": "73e1c93c-1409-4670-b09a-ad0e74fb748b"
      },
      "source": [
        "n_qubits = 2\n",
        "delta = 2.\n",
        "eta = 2.\n",
        "H = hamiltonian_XXZ(n_qubits, delta, eta)\n",
        "print(H)"
      ],
      "execution_count": null,
      "outputs": [
        {
          "output_type": "stream",
          "text": [
            "(2.0) [X1 X0]\n",
            "+ (2.0) [Y1 Y0]\n",
            "+ (4.0) [Z1 Z0]\n",
            "+ (2.0) [Z1]\n",
            "+ (2.0) [Z0]\n"
          ],
          "name": "stdout"
        }
      ]
    },
    {
      "cell_type": "markdown",
      "metadata": {
        "id": "h7rzRH6mQZxm"
      },
      "source": [
        "## 1.2) Creating the ansatz\n",
        "\n",
        "In order to create an ansatz it is needed to do an encoding of the Hamiltonian parameter. For this case I choose to do a linear encoding of the parameter $\\Delta$ of the XXZ Hamiltonian:\n",
        "\n",
        "$$\n",
        "S(\\Delta, \\theta) = R_Z ( \\theta_0 \\ \\Delta + \\theta_1) R_Y ( \\theta_2 \\ \\Delta + \\theta_3)\n",
        "$$\n",
        "\n",
        "For the processing layer, U, we have that:\n",
        "\n",
        "$$\n",
        "U(\\theta) = R_Z ( \\theta_0 ) R_Y ( \\theta_1)\n",
        "$$"
      ]
    },
    {
      "cell_type": "code",
      "metadata": {
        "id": "-carCDUuSh6S"
      },
      "source": [
        "def variational_ansatz(params: np.array, delta: float , wires: qml.wires, H=None):\n",
        "    \"\"\" Variational ansatz with linear encoding.\n",
        "\n",
        "\n",
        "    \"\"\"\n",
        "    \n",
        "    n_layers = params.shape[0]\n",
        "    n_qubits = params.shape[1]\n",
        "\n",
        "    for L in range(n_layers):\n",
        "        # Encoding Layer\n",
        "        if L == 0:\n",
        "            for qubit in range(n_qubits):\n",
        "                qml.RZ(params[L][qubit][0] * delta + params[L][qubit][1], wires=qubit)\n",
        "                qml.RY(params[L][qubit][2] * delta + params[L][qubit][3], wires=qubit)\n",
        "            \n",
        "            for ent in range(0, n_qubits - 1, 2):\n",
        "                qml.CNOT(wires= [ent, ent+1])\n",
        "        \n",
        "        # Processing Layer\n",
        "        else:\n",
        "            for qubit in range(n_qubits):\n",
        "                qml.RZ(params[L][qubit][0] , wires=qubit)\n",
        "                qml.RY(params[L][qubit][2] , wires=qubit)\n",
        "            \n",
        "            for ent in range(0, n_qubits - 1, 2):\n",
        "                qml.CNOT(wires= [ent, ent+1])"
      ],
      "execution_count": null,
      "outputs": []
    },
    {
      "cell_type": "markdown",
      "metadata": {
        "id": "QltU9YSlo3GK"
      },
      "source": [
        "# 1.3) Defining the cost function\n",
        "\n",
        "The main idea for the cost function is to minimize the energy value over all training points (encoded parameters of the Hamiltonian) $H(\\lambda_i)$, thus I choose the same cost function as the original paper:\n",
        "\n",
        "$$\n",
        "\\mathcal{L}_{\\mathrm{COST}} = \\sum_{i=1}^M \\langle \\psi_i | H (\\lambda_i) | \\psi_i \\rangle\n",
        "$$\n",
        "\n",
        "By minimizing this cost function it is expected to find the ground state by only changing the parameters $\\lambda_i$ on the parametrized wave function $| \\psi_i \\rangle$.\n",
        "\n",
        "In order to construct the loss function using Pennylane, it is needed to first construct a general way to calculate the expected value of a hamiltonian given an ansatz, which is done on the `ExpvalH`, and then it is neede to calculate the cost of the XXZ Hamiltonian for each training points of the parameter $\\delta$."
      ]
    },
    {
      "cell_type": "code",
      "metadata": {
        "id": "rQDB7ayxgeKm"
      },
      "source": [
        "def ExpvalH(H: qml.Hamiltonian, device: qml.device):\n",
        "    coeffs, observables = H.terms\n",
        "    qnodes = qml.map(\n",
        "            variational_ansatz, observables, device\n",
        "            )\n",
        "    cost = qml.dot(coeffs, qnodes)\n",
        "    return cost\n",
        "\n",
        "def m_vqe_cost(train_deltas: np.array, dev: qml.device , params: np.array):\n",
        "    # cost function value\n",
        "    c = 0.\n",
        "    n_qubits = dev.num_wires\n",
        "\n",
        "    for delta in train_deltas:\n",
        "        H = hamiltonian_XXZ(n_qubits, delta, eta)\n",
        "        cost = ExpvalH(H, dev)\n",
        "        c += cost(params, delta=delta)\n",
        "    \n",
        "    return c"
      ],
      "execution_count": null,
      "outputs": []
    },
    {
      "cell_type": "markdown",
      "metadata": {
        "id": "eRS5P-3MLwuQ"
      },
      "source": [
        "Let's define the parameters to run the algorithm. First we define the training values of $\\delta$ which is taken to be a uniform distrubution between -1.1 and 1.1. \n",
        "\n",
        "Next we define the eta to be 0.75 as the original paper, and then define the number of encoded and processing layers.\n",
        "\n",
        "After that we initialize the parameters at random. "
      ]
    },
    {
      "cell_type": "code",
      "metadata": {
        "id": "O7_YxWxiiu3n"
      },
      "source": [
        "# Creating training data\n",
        "n_qubits = 2\n",
        "dev = qml.device(\"default.qubit\", wires=n_qubits)\n",
        "\n",
        "train_deltas = np.random.uniform(low=-1, high=1, size=5)\n",
        "\n",
        "seed\n",
        "# Hyperparameters\n",
        "eta = 0.75 # lambda parameter\n",
        "L = 4 # Number of layers\n",
        "\n",
        "# initializing parameters\n",
        "params = np.random.uniform(low=-np.pi/2, high=np.pi/2, size=(L, n_qubits, 4))\n",
        "\n",
        "# Training Parameters\n",
        "epochs = 100\n",
        "optimizer = qml.AdagradOptimizer()\n",
        "\n",
        "from functools import partial\n",
        "\n",
        "# Applyies train_deltas for the Meta-VQE cost function\n",
        "cost_fn = partial(m_vqe_cost, train_deltas, dev)\n",
        "\n",
        "pbar = tqdm(range(epochs), desc='Energy', leave=True)\n",
        "\n",
        "for i in pbar:\n",
        "    params, val = optimizer.step_and_cost(cost_fn, params)\n",
        "    pbar.set_description(f\"Loss: {val:.3f}\")\n",
        "\n",
        "params_mvqe = params.copy()"
      ],
      "execution_count": null,
      "outputs": []
    },
    {
      "cell_type": "markdown",
      "metadata": {
        "id": "FYhGN4lOg2gS"
      },
      "source": [
        "## 1.3) Testing the trained model\n",
        "\n",
        "Now we compare the trained ansatz with the exact solution and see that it \"learns\" the shape of the exact solution, but it has some offset."
      ]
    },
    {
      "cell_type": "code",
      "metadata": {
        "id": "XAqVzd1drXD-"
      },
      "source": [
        "# Creating test data\n",
        "test_deltas = np.random.uniform(low=-1, high=1, size=50)\n",
        "test_energies = np.zeros_like(test_deltas)\n",
        "exact_energies = np.zeros_like(test_deltas)\n",
        "\n",
        "n_qubits = dev.num_wires\n",
        "\n",
        "for i, delta in tqdm(enumerate(test_deltas)):\n",
        "    H = hamiltonian_XXZ(n_qubits, delta, eta)\n",
        "    cost = ExpvalH(H, dev)\n",
        "    test_energies[i] = cost(params_mvqe, delta=delta)\n",
        "    exact_energies[i] = exact_gs(H)"
      ],
      "execution_count": null,
      "outputs": []
    },
    {
      "cell_type": "code",
      "metadata": {
        "colab": {
          "base_uri": "https://localhost:8080/",
          "height": 298
        },
        "id": "_qCe_AuOsSLK",
        "outputId": "0e303876-4a35-41f3-f5c8-ad74100a6fd1"
      },
      "source": [
        "plt.plot(test_deltas, test_energies, 'o', label='Meta-VQE')\n",
        "plt.plot(test_deltas, exact_energies, 'ro', label='Exact')\n",
        "plt.title(\"Test\")\n",
        "plt.xlabel(\"$\\Delta$\", fontsize=14)\n",
        "plt.ylabel(\"GS\", fontsize=14)\n",
        "plt.legend()\n",
        "plt.show()"
      ],
      "execution_count": null,
      "outputs": [
        {
          "output_type": "display_data",
          "data": {
            "image/png": "[encoded data removed]",
            "text/plain": [
              "<Figure size 432x288 with 1 Axes>"
            ]
          },
          "metadata": {
            "tags": [],
            "needs_background": "light"
          }
        }
      ]
    },
    {
      "cell_type": "markdown",
      "metadata": {
        "id": "iD9GbO20_i2D"
      },
      "source": [
        "# References\n",
        "\n",
        "[1] [Cervera-Lierta, Alba, Jakob S. Kottmann, and Alán Aspuru-Guzik. \"The meta-variational quantum eigensolver (meta-vqe): Learning energy profiles of parameterized hamiltonians for quantum simulation.\" arXiv preprint arXiv:2009.13545 (2020)](https://arxiv.org/abs/2009.13545).\n",
        "\n",
        "[2] [Alba Cervera-Lierta QHACK21 repository](https://github.com/AlbaCL/qhack21/blob/main/Meta-VQE.ipynb)"
      ]
    }
  ]
}